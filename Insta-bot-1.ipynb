{
 "cells": [
  {
   "cell_type": "markdown",
   "metadata": {},
   "source": [
    "# 1.login to Instagram using username and password"
   ]
  },
  {
   "cell_type": "code",
   "execution_count": 21,
   "metadata": {},
   "outputs": [],
   "source": [
    "import time\n",
    "from selenium import webdriver\n",
    "driver= webdriver.Chrome(executable_path ='/Users/91771/Downloads/chromedriver/chromedriver')\n",
    "driver.get('https://www.instagram.com/')\n",
    "time.sleep(5)\n",
    "username = driver.find_element_by_name('username')\n",
    "username.send_keys('SAMPLE USERNAME')\n",
    "password = driver.find_element_by_name('password')\n",
    "password.send_keys('SAMPLE PASSWORD')\n",
    "password.submit()\n",
    "time.sleep(3)\n",
    "exit_btn = driver.find_elements_by_xpath(\"//div[@class = 'mt3GC']/button\")[1].click()"
   ]
  },
  {
   "cell_type": "markdown",
   "metadata": {},
   "source": [
    " # 2.Search the food in search bar and print the top 10 food handles excluding           tags"
   ]
  },
  {
   "cell_type": "code",
   "execution_count": 1,
   "metadata": {},
   "outputs": [
    {
     "name": "stdout",
     "output_type": "stream",
     "text": [
      "top 10 search links for 'food' excluding hashtags\n",
      "\n",
      "foodiesolapurkar\n",
      "solapuri_food\n",
      "pune_food_blogger\n",
      "food_solapuri\n",
      "mh_13_food\n",
      "food_travel_explore_\n",
      "food\n",
      "amhi_foodiekar\n",
      "yourfoodlab\n",
      "thepunefoodie\n"
     ]
    }
   ],
   "source": [
    "import time\n",
    "from selenium import webdriver\n",
    "from selenium.webdriver.common.by import By\n",
    "from selenium.webdriver.support.ui import WebDriverWait\n",
    "from selenium.webdriver.support import expected_conditions as EC\n",
    "driver= webdriver.Chrome(executable_path ='/Users/91771/Downloads/chromedriver/chromedriver')\n",
    "driver.get('https://www.instagram.com/')\n",
    "time.sleep(5)\n",
    "username = driver.find_element_by_name('username')\n",
    "username.send_keys('SAMPLE USERNAME')\n",
    "password = driver.find_element_by_name('password')\n",
    "password.send_keys('SAMPLE PASSWORD')\n",
    "password.submit()\n",
    "time.sleep(3)\n",
    "exit_btn = driver.find_elements_by_xpath(\"//div[@class = 'mt3GC']/button\")[1].click()\n",
    "driver.find_element_by_xpath(\"//div[@class = 'LWmhU _0aCwM']/div\").click()\n",
    "driver.find_element_by_xpath(\"//div[@class = 'LWmhU _0aCwM']/input\").send_keys(\"food\")\n",
    "# printing top 10 pages with \"food\" search excluding hashtags\n",
    "time.sleep(2)\n",
    "search_list= driver.find_elements_by_class_name(\"yCE8d\")\n",
    "count=0\n",
    "serial=0\n",
    "\n",
    "print(\"top 10 search links for 'food' excluding hashtags\")\n",
    "print()\n",
    "for i in search_list:\n",
    "    if (count==10):\n",
    "        break\n",
    "    title_item= ((driver.find_elements_by_class_name(\"Ap253\")))[serial].text\n",
    "    if (title_item[0]!=\"#\"):\n",
    "            \n",
    "        print(title_item)\n",
    "        count+=1\n",
    "\n",
    "   \n",
    "    serial+=1\n",
    "\n"
   ]
  },
  {
   "cell_type": "markdown",
   "metadata": {},
   "source": [
    "# 3.find the page of So Delhi"
   ]
  },
  {
   "cell_type": "code",
   "execution_count": 2,
   "metadata": {},
   "outputs": [],
   "source": [
    "import time\n",
    "from selenium import webdriver\n",
    "from selenium.webdriver.common.by import By\n",
    "from selenium.webdriver.support.ui import WebDriverWait\n",
    "from selenium.webdriver.support import expected_conditions as EC\n",
    "driver= webdriver.Chrome(executable_path ='/Users/91771/Downloads/chromedriver/chromedriver')\n",
    "driver.get('https://www.instagram.com/')\n",
    "time.sleep(5)\n",
    "username = driver.find_element_by_name('username')\n",
    "username.send_keys('SAMPLE USERNAME')\n",
    "password = driver.find_element_by_name('password')\n",
    "password.send_keys('SAMPLE PASSWORD')\n",
    "password.submit()\n",
    "time.sleep(3)\n",
    "exit_btn = driver.find_elements_by_xpath(\"//div[@class = 'mt3GC']/button\")[1].click()\n",
    "driver.find_element_by_xpath(\"//div[@class = 'LWmhU _0aCwM']/div\").click()\n",
    "driver.find_element_by_xpath(\"//div[@class = 'LWmhU _0aCwM']/input\").send_keys(\"So Delhi\")\n",
    "time.sleep(2)\n",
    "so_delhi_item= driver.find_element_by_class_name(\"yCE8d\")\n",
    "so_delhi_item.click()\n"
   ]
  },
  {
   "cell_type": "code",
   "execution_count": null,
   "metadata": {},
   "outputs": [],
   "source": [
    "# clearing search bar and searching so delhi\n",
    "time.sleep(10)\n",
    "clear_search_bar=driver.find_element_by_class_name(\"coreSpriteSearchClear\")\n",
    "clear_search_bar.click()"
   ]
  },
  {
   "cell_type": "markdown",
   "metadata": {},
   "source": [
    "# 4.Start following the page So delhi"
   ]
  },
  {
   "cell_type": "code",
   "execution_count": 6,
   "metadata": {},
   "outputs": [],
   "source": [
    "# follow the so delhi page\n",
    "import time\n",
    "from selenium import webdriver\n",
    "from selenium.webdriver.common.by import By\n",
    "from selenium.webdriver.support.ui import WebDriverWait\n",
    "from selenium.webdriver.support import expected_conditions as EC\n",
    "driver= webdriver.Chrome(executable_path ='/Users/91771/Downloads/chromedriver/chromedriver')\n",
    "driver.get('https://www.instagram.com/')\n",
    "time.sleep(5)\n",
    "username = driver.find_element_by_name('username')\n",
    "username.send_keys('SAMPLE USERNAME')\n",
    "password = driver.find_element_by_name('password')\n",
    "password.send_keys('SAMPLE PASSWORD')\n",
    "password.submit()\n",
    "time.sleep(3)\n",
    "exit_btn = driver.find_elements_by_xpath(\"//div[@class = 'mt3GC']/button\")[1].click()\n",
    "driver.find_element_by_xpath(\"//div[@class = 'LWmhU _0aCwM']/div\").click()\n",
    "driver.find_element_by_xpath(\"//div[@class = 'LWmhU _0aCwM']/input\").send_keys(\"So Delhi\")\n",
    "time.sleep(2)\n",
    "so_delhi_item= driver.find_element_by_class_name(\"yCE8d\")\n",
    "so_delhi_item.click()\n",
    "time.sleep(2)\n",
    "follow_btn=driver.find_element_by_class_name(\"yZn4P   \")\n",
    "follow_btn.click()"
   ]
  },
  {
   "cell_type": "code",
   "execution_count": 7,
   "metadata": {},
   "outputs": [],
   "source": [
    "# Unfollow the So Delhi Page\n",
    "follow_btn=driver.find_element_by_class_name(\"yZn4P   \")\n",
    "follow_btn.click()\n",
    "unfollow_click=driver.find_element_by_class_name(\"-Cab_   \")\n",
    "unfollow_click.click()"
   ]
  },
  {
   "cell_type": "markdown",
   "metadata": {},
   "source": [
    "# 5.Like/ Unlike the post of 30 posts of the ‘dilsefoodie'"
   ]
  },
  {
   "cell_type": "code",
   "execution_count": 22,
   "metadata": {},
   "outputs": [],
   "source": [
    "## liking the Page\n",
    "def like_Posts() :\n",
    "    for i in range(1):\n",
    "        driver.execute_script(\"window.scrollTo(0, document.body.scrollHeight);\")\n",
    "        time.sleep(3)\n",
    "    posts = driver.find_elements_by_class_name('_9AhH0')[0:30]\n",
    "    for p in posts :\n",
    "        p.click()\n",
    "        time.sleep(3)\n",
    "        check_like = driver.find_element_by_xpath('//span[contains(@class,\"fr66n\")]//span').get_attribute('aria-label')\n",
    "        if check_like != 'Like':\n",
    "            print('Already Liked')\n",
    "        else :\n",
    "            driver.find_element_by_xpath('//span[contains(@class,\"fr66n\")]').click()\n",
    "        time.sleep(2)\n",
    "        driver.back()\n",
    "open_profile('dilsefoodie')\n",
    "like_Posts()        "
   ]
  },
  {
   "cell_type": "code",
   "execution_count": null,
   "metadata": {},
   "outputs": [],
   "source": [
    "## unliking the page\n",
    "def unlike_Posts() :\n",
    "    for i in range(1):\n",
    "        driver.execute_script(\"window.scrollTo(0, document.body.scrollHeight);\")\n",
    "        time.sleep(3)\n",
    "    posts = driver.find_elements_by_class_name('_9AhH0')[0:30]\n",
    "    for p in posts :\n",
    "        p.click()\n",
    "        time.sleep(2)\n",
    "        check_like = driver.find_element_by_xpath('//span[contains(@class,\"fr66n\")]//span').get_attribute('aria-label')\n",
    "        if check_like == 'Like':\n",
    "            print('Already Unliked')\n",
    "        else :\n",
    "            driver.find_element_by_xpath('//span[contains(@class,\"fr66n\")]').click()\n",
    "        time.sleep(1)\n",
    "        driver.back()\n",
    "open_profile('dilsefoodie')\n",
    "unlike_Posts()\n",
    "        \n"
   ]
  },
  {
   "cell_type": "code",
   "execution_count": null,
   "metadata": {},
   "outputs": [],
   "source": []
  },
  {
   "cell_type": "markdown",
   "metadata": {},
   "source": [
    "# 6.List of Username of 500 Followers of Foodtalkindia"
   ]
  },
  {
   "cell_type": "code",
   "execution_count": 12,
   "metadata": {},
   "outputs": [],
   "source": [
    "import time\n",
    "from selenium import webdriver\n",
    "from selenium.webdriver.common.by import By\n",
    "from selenium.webdriver.support.ui import WebDriverWait\n",
    "from selenium.webdriver.support import expected_conditions as EC\n",
    "driver= webdriver.Chrome(executable_path ='/Users/91771/Downloads/chromedriver/chromedriver')\n",
    "driver.get('https://www.instagram.com/')\n",
    "time.sleep(5)\n",
    "username = driver.find_element_by_name('username')\n",
    "username.send_keys('SAMPLE USERNAME')\n",
    "password = driver.find_element_by_name('password')\n",
    "password.send_keys('SAMPLE PASSWORD')\n",
    "password.submit()\n",
    "time.sleep(3)\n",
    "exit_btn = driver.find_elements_by_xpath(\"//div[@class = 'mt3GC']/button\")[1].click()\n",
    "driver.find_element_by_xpath(\"//div[@class = 'LWmhU _0aCwM']/div\").click()\n",
    "driver.find_element_by_xpath(\"//div[@class = 'LWmhU _0aCwM']/input\").send_keys(\"foodtalkindia\")\n",
    "time.sleep(2)\n",
    "foodtalkindia= driver.find_element_by_class_name(\"yCE8d\")\n",
    "foodtalkindia.click()\n",
    "time.sleep(2)\n",
    "#followers= driver.find_elements_by_class_name(\"-nal3 \")\n",
    "#followers[1].click()\n"
   ]
  },
  {
   "cell_type": "code",
   "execution_count": null,
   "metadata": {},
   "outputs": [],
   "source": [
    "#500 followers of foodtalkindia\n",
    "def get_followers() :\n",
    "    time.sleep(5)\n",
    "    import math\n",
    "    driver.find_element_by_partial_link_text('followers').click()\n",
    "    time.sleep(5)\n",
    "    start = 0\n",
    "    k = 24\n",
    "    followers = []\n",
    "    while(True) :\n",
    "        if len(followers) > 500 :\n",
    "            break;\n",
    "        elements = driver.find_elements_by_xpath('//a[contains(@class,\"FPmhX\")]')\n",
    "        elements = elements[start:k+1]\n",
    "        for i in elements :\n",
    "            followers.append(i.text)\n",
    "        st = \"body > div.RnEpo.Yx5HN > div > div.isgrP > ul > div > li:nth-child(\" + str(k) + \")\"\n",
    "        check_exists = driver.find_elements_by_css_selector(st)\n",
    "        if len(check_exists) == 0 :\n",
    "            break;\n",
    "        s ='var topPos = document.querySelector(\\\"'+st+'\\\"); topPos.scrollIntoView(false);'\n",
    "        driver.execute_script(s)\n",
    "        start = start+12\n",
    "        if start == 12 :\n",
    "            start = 25\n",
    "        k = k + 12\n",
    "        time.sleep(1)\n",
    "    driver.back()\n",
    "    return followers\n",
    "\n",
    "my_followers = get_followers()\n",
    "print(\"The list of 500 Followers of Foodtalkindia\")\n",
    "finalList = list(set(my_followers))\n",
    "for i in finalList :\n",
    "    print(i)"
   ]
  },
  {
   "cell_type": "markdown",
   "metadata": {},
   "source": [
    "## 7.Story of Coding Ninjas"
   ]
  },
  {
   "cell_type": "code",
   "execution_count": null,
   "metadata": {},
   "outputs": [],
   "source": [
    "def open_profile(handle) :\n",
    "    search_box = driver.find_element_by_xpath('//input[contains(@class,\"XTCLo x3qfX \")]')\n",
    "    search_box.send_keys(handle)\n",
    "    time.sleep(4)\n",
    "    driver.find_element_by_xpath('//a[contains(@class,\"yCE8d\")]').click()\n",
    "def check_Story(username) :\n",
    "    open_profile(username)\n",
    "    time.sleep(4)\n",
    "    height = driver.find_element_by_tag_name(\"canvas\").get_attribute('height')\n",
    "    if int(height) == 166 :\n",
    "        print('You have already checked the story of' , username)\n",
    "    else :\n",
    "        story_viewed = driver.find_elements_by_xpath('//div[contains(@class,\"h5uC0\")]')\n",
    "        if len(story_viewed) == 0 :\n",
    "            print('No story exists')\n",
    "        else :\n",
    "            driver.find_element_by_class_name('_6q-tv').click()\n",
    "    driver.back()\n",
    "    \n",
    "check_Story('coding.ninjas')    "
   ]
  }
 ],
 "metadata": {
  "kernelspec": {
   "display_name": "Python 3",
   "language": "python",
   "name": "python3"
  },
  "language_info": {
   "codemirror_mode": {
    "name": "ipython",
    "version": 3
   },
   "file_extension": ".py",
   "mimetype": "text/x-python",
   "name": "python",
   "nbconvert_exporter": "python",
   "pygments_lexer": "ipython3",
   "version": "3.7.4"
  }
 },
 "nbformat": 4,
 "nbformat_minor": 2
}
